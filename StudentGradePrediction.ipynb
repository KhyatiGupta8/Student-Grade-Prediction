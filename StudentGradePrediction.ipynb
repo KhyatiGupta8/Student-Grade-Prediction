{
  "nbformat": 4,
  "nbformat_minor": 0,
  "metadata": {
    "colab": {
      "name": "StudentGradePrediction.ipynb",
      "provenance": [],
      "collapsed_sections": [],
      "toc_visible": true,
      "authorship_tag": "ABX9TyOLFFbLNyH/+Z1fbGwk4uSl",
      "include_colab_link": true
    },
    "kernelspec": {
      "display_name": "Python 3",
      "name": "python3"
    }
  },
  "cells": [
    {
      "cell_type": "markdown",
      "metadata": {
        "id": "view-in-github",
        "colab_type": "text"
      },
      "source": [
        "<a href=\"https://colab.research.google.com/github/KhyatiGupta8/Student-Grade-Prediction/blob/main/StudentGradePrediction.ipynb\" target=\"_parent\"><img src=\"https://colab.research.google.com/assets/colab-badge.svg\" alt=\"Open In Colab\"/></a>"
      ]
    },
    {
      "cell_type": "markdown",
      "metadata": {
        "id": "Lw_wVVUO54gc"
      },
      "source": [
        "##Loading Data"
      ]
    },
    {
      "cell_type": "code",
      "metadata": {
        "colab": {
          "resources": {
            "http://localhost:8080/nbextensions/google.colab/files.js": {
              "data": "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",
              "ok": true,
              "headers": [
                [
                  "content-type",
                  "application/javascript"
                ]
              ],
              "status": 200,
              "status_text": ""
            }
          },
          "base_uri": "https://localhost:8080/",
          "height": 73
        },
        "id": "X2wl7IdZHOFu",
        "outputId": "17202494-d083-46ef-cc2d-0a4a17d75f53"
      },
      "source": [
        "from google.colab import files \n",
        "uploaded = files.upload()"
      ],
      "execution_count": 70,
      "outputs": [
        {
          "output_type": "display_data",
          "data": {
            "text/html": [
              "\n",
              "     <input type=\"file\" id=\"files-257adc32-3d97-4184-8929-b86be0c55eab\" name=\"files[]\" multiple disabled\n",
              "        style=\"border:none\" />\n",
              "     <output id=\"result-257adc32-3d97-4184-8929-b86be0c55eab\">\n",
              "      Upload widget is only available when the cell has been executed in the\n",
              "      current browser session. Please rerun this cell to enable.\n",
              "      </output>\n",
              "      <script src=\"/nbextensions/google.colab/files.js\"></script> "
            ],
            "text/plain": [
              "<IPython.core.display.HTML object>"
            ]
          },
          "metadata": {
            "tags": []
          }
        },
        {
          "output_type": "stream",
          "text": [
            "Saving Student_data.csv to Student_data (1).csv\n"
          ],
          "name": "stdout"
        }
      ]
    },
    {
      "cell_type": "markdown",
      "metadata": {
        "id": "1mfAnYxG59On"
      },
      "source": [
        "##Importing modules"
      ]
    },
    {
      "cell_type": "code",
      "metadata": {
        "id": "3fn0WvdOHS46"
      },
      "source": [
        "import pandas as pd\n",
        "import seaborn as sns\n",
        "import matplotlib.pyplot as plt\n",
        "from sklearn.preprocessing import LabelEncoder\n",
        "from sklearn.model_selection import train_test_split\n",
        "from sklearn.metrics import confusion_matrix,classification_report,accuracy_score"
      ],
      "execution_count": 71,
      "outputs": []
    },
    {
      "cell_type": "markdown",
      "metadata": {
        "id": "dV_6FZ2n6Kfn"
      },
      "source": [
        "##Analyzing Data"
      ]
    },
    {
      "cell_type": "code",
      "metadata": {
        "colab": {
          "base_uri": "https://localhost:8080/",
          "height": 284
        },
        "id": "hHTgl60GHu90",
        "outputId": "53548a1d-7873-44d1-a697-f2641a4446a5"
      },
      "source": [
        "stud_data=pd.read_csv(r'Student_data.csv')\n",
        "stud_data.describe()"
      ],
      "execution_count": 72,
      "outputs": [
        {
          "output_type": "execute_result",
          "data": {
            "text/html": [
              "<div>\n",
              "<style scoped>\n",
              "    .dataframe tbody tr th:only-of-type {\n",
              "        vertical-align: middle;\n",
              "    }\n",
              "\n",
              "    .dataframe tbody tr th {\n",
              "        vertical-align: top;\n",
              "    }\n",
              "\n",
              "    .dataframe thead th {\n",
              "        text-align: right;\n",
              "    }\n",
              "</style>\n",
              "<table border=\"1\" class=\"dataframe\">\n",
              "  <thead>\n",
              "    <tr style=\"text-align: right;\">\n",
              "      <th></th>\n",
              "      <th>raisedhands</th>\n",
              "      <th>VisITedResources</th>\n",
              "      <th>AnnouncementsView</th>\n",
              "      <th>Discussion</th>\n",
              "    </tr>\n",
              "  </thead>\n",
              "  <tbody>\n",
              "    <tr>\n",
              "      <th>count</th>\n",
              "      <td>480.000000</td>\n",
              "      <td>480.000000</td>\n",
              "      <td>480.000000</td>\n",
              "      <td>480.000000</td>\n",
              "    </tr>\n",
              "    <tr>\n",
              "      <th>mean</th>\n",
              "      <td>46.775000</td>\n",
              "      <td>54.797917</td>\n",
              "      <td>37.918750</td>\n",
              "      <td>43.283333</td>\n",
              "    </tr>\n",
              "    <tr>\n",
              "      <th>std</th>\n",
              "      <td>30.779223</td>\n",
              "      <td>33.080007</td>\n",
              "      <td>26.611244</td>\n",
              "      <td>27.637735</td>\n",
              "    </tr>\n",
              "    <tr>\n",
              "      <th>min</th>\n",
              "      <td>0.000000</td>\n",
              "      <td>0.000000</td>\n",
              "      <td>0.000000</td>\n",
              "      <td>1.000000</td>\n",
              "    </tr>\n",
              "    <tr>\n",
              "      <th>25%</th>\n",
              "      <td>15.750000</td>\n",
              "      <td>20.000000</td>\n",
              "      <td>14.000000</td>\n",
              "      <td>20.000000</td>\n",
              "    </tr>\n",
              "    <tr>\n",
              "      <th>50%</th>\n",
              "      <td>50.000000</td>\n",
              "      <td>65.000000</td>\n",
              "      <td>33.000000</td>\n",
              "      <td>39.000000</td>\n",
              "    </tr>\n",
              "    <tr>\n",
              "      <th>75%</th>\n",
              "      <td>75.000000</td>\n",
              "      <td>84.000000</td>\n",
              "      <td>58.000000</td>\n",
              "      <td>70.000000</td>\n",
              "    </tr>\n",
              "    <tr>\n",
              "      <th>max</th>\n",
              "      <td>100.000000</td>\n",
              "      <td>99.000000</td>\n",
              "      <td>98.000000</td>\n",
              "      <td>99.000000</td>\n",
              "    </tr>\n",
              "  </tbody>\n",
              "</table>\n",
              "</div>"
            ],
            "text/plain": [
              "       raisedhands  VisITedResources  AnnouncementsView  Discussion\n",
              "count   480.000000        480.000000         480.000000  480.000000\n",
              "mean     46.775000         54.797917          37.918750   43.283333\n",
              "std      30.779223         33.080007          26.611244   27.637735\n",
              "min       0.000000          0.000000           0.000000    1.000000\n",
              "25%      15.750000         20.000000          14.000000   20.000000\n",
              "50%      50.000000         65.000000          33.000000   39.000000\n",
              "75%      75.000000         84.000000          58.000000   70.000000\n",
              "max     100.000000         99.000000          98.000000   99.000000"
            ]
          },
          "metadata": {
            "tags": []
          },
          "execution_count": 72
        }
      ]
    },
    {
      "cell_type": "code",
      "metadata": {
        "colab": {
          "base_uri": "https://localhost:8080/"
        },
        "id": "B2cfjo9mH1Yz",
        "outputId": "13939c77-b56d-4938-8b65-cc0996fa9b75"
      },
      "source": [
        "stud_data.info()"
      ],
      "execution_count": 73,
      "outputs": [
        {
          "output_type": "stream",
          "text": [
            "<class 'pandas.core.frame.DataFrame'>\n",
            "RangeIndex: 480 entries, 0 to 479\n",
            "Data columns (total 17 columns):\n",
            " #   Column                    Non-Null Count  Dtype \n",
            "---  ------                    --------------  ----- \n",
            " 0   gender                    480 non-null    object\n",
            " 1   NationalITy               480 non-null    object\n",
            " 2   PlaceofBirth              480 non-null    object\n",
            " 3   StageID                   480 non-null    object\n",
            " 4   GradeID                   480 non-null    object\n",
            " 5   SectionID                 480 non-null    object\n",
            " 6   Topic                     480 non-null    object\n",
            " 7   Semester                  480 non-null    object\n",
            " 8   Relation                  480 non-null    object\n",
            " 9   raisedhands               480 non-null    int64 \n",
            " 10  VisITedResources          480 non-null    int64 \n",
            " 11  AnnouncementsView         480 non-null    int64 \n",
            " 12  Discussion                480 non-null    int64 \n",
            " 13  ParentAnsweringSurvey     480 non-null    object\n",
            " 14  ParentschoolSatisfaction  480 non-null    object\n",
            " 15  StudentAbsenceDays        480 non-null    object\n",
            " 16  Class                     480 non-null    object\n",
            "dtypes: int64(4), object(13)\n",
            "memory usage: 63.9+ KB\n"
          ],
          "name": "stdout"
        }
      ]
    },
    {
      "cell_type": "code",
      "metadata": {
        "colab": {
          "base_uri": "https://localhost:8080/",
          "height": 422
        },
        "id": "Q2TpOG55ItY8",
        "outputId": "cfb95c21-70d8-45b0-d201-1f1ce3b88575"
      },
      "source": [
        "stud_data"
      ],
      "execution_count": 74,
      "outputs": [
        {
          "output_type": "execute_result",
          "data": {
            "text/html": [
              "<div>\n",
              "<style scoped>\n",
              "    .dataframe tbody tr th:only-of-type {\n",
              "        vertical-align: middle;\n",
              "    }\n",
              "\n",
              "    .dataframe tbody tr th {\n",
              "        vertical-align: top;\n",
              "    }\n",
              "\n",
              "    .dataframe thead th {\n",
              "        text-align: right;\n",
              "    }\n",
              "</style>\n",
              "<table border=\"1\" class=\"dataframe\">\n",
              "  <thead>\n",
              "    <tr style=\"text-align: right;\">\n",
              "      <th></th>\n",
              "      <th>gender</th>\n",
              "      <th>NationalITy</th>\n",
              "      <th>PlaceofBirth</th>\n",
              "      <th>StageID</th>\n",
              "      <th>GradeID</th>\n",
              "      <th>SectionID</th>\n",
              "      <th>Topic</th>\n",
              "      <th>Semester</th>\n",
              "      <th>Relation</th>\n",
              "      <th>raisedhands</th>\n",
              "      <th>VisITedResources</th>\n",
              "      <th>AnnouncementsView</th>\n",
              "      <th>Discussion</th>\n",
              "      <th>ParentAnsweringSurvey</th>\n",
              "      <th>ParentschoolSatisfaction</th>\n",
              "      <th>StudentAbsenceDays</th>\n",
              "      <th>Class</th>\n",
              "    </tr>\n",
              "  </thead>\n",
              "  <tbody>\n",
              "    <tr>\n",
              "      <th>0</th>\n",
              "      <td>M</td>\n",
              "      <td>KW</td>\n",
              "      <td>KuwaIT</td>\n",
              "      <td>lowerlevel</td>\n",
              "      <td>G-04</td>\n",
              "      <td>A</td>\n",
              "      <td>IT</td>\n",
              "      <td>F</td>\n",
              "      <td>Father</td>\n",
              "      <td>15</td>\n",
              "      <td>16</td>\n",
              "      <td>2</td>\n",
              "      <td>20</td>\n",
              "      <td>Yes</td>\n",
              "      <td>Good</td>\n",
              "      <td>Under-7</td>\n",
              "      <td>M</td>\n",
              "    </tr>\n",
              "    <tr>\n",
              "      <th>1</th>\n",
              "      <td>M</td>\n",
              "      <td>KW</td>\n",
              "      <td>KuwaIT</td>\n",
              "      <td>lowerlevel</td>\n",
              "      <td>G-04</td>\n",
              "      <td>A</td>\n",
              "      <td>IT</td>\n",
              "      <td>F</td>\n",
              "      <td>Father</td>\n",
              "      <td>20</td>\n",
              "      <td>20</td>\n",
              "      <td>3</td>\n",
              "      <td>25</td>\n",
              "      <td>Yes</td>\n",
              "      <td>Good</td>\n",
              "      <td>Under-7</td>\n",
              "      <td>M</td>\n",
              "    </tr>\n",
              "    <tr>\n",
              "      <th>2</th>\n",
              "      <td>M</td>\n",
              "      <td>KW</td>\n",
              "      <td>KuwaIT</td>\n",
              "      <td>lowerlevel</td>\n",
              "      <td>G-04</td>\n",
              "      <td>A</td>\n",
              "      <td>IT</td>\n",
              "      <td>F</td>\n",
              "      <td>Father</td>\n",
              "      <td>10</td>\n",
              "      <td>7</td>\n",
              "      <td>0</td>\n",
              "      <td>30</td>\n",
              "      <td>No</td>\n",
              "      <td>Bad</td>\n",
              "      <td>Above-7</td>\n",
              "      <td>L</td>\n",
              "    </tr>\n",
              "    <tr>\n",
              "      <th>3</th>\n",
              "      <td>M</td>\n",
              "      <td>KW</td>\n",
              "      <td>KuwaIT</td>\n",
              "      <td>lowerlevel</td>\n",
              "      <td>G-04</td>\n",
              "      <td>A</td>\n",
              "      <td>IT</td>\n",
              "      <td>F</td>\n",
              "      <td>Father</td>\n",
              "      <td>30</td>\n",
              "      <td>25</td>\n",
              "      <td>5</td>\n",
              "      <td>35</td>\n",
              "      <td>No</td>\n",
              "      <td>Bad</td>\n",
              "      <td>Above-7</td>\n",
              "      <td>L</td>\n",
              "    </tr>\n",
              "    <tr>\n",
              "      <th>4</th>\n",
              "      <td>M</td>\n",
              "      <td>KW</td>\n",
              "      <td>KuwaIT</td>\n",
              "      <td>lowerlevel</td>\n",
              "      <td>G-04</td>\n",
              "      <td>A</td>\n",
              "      <td>IT</td>\n",
              "      <td>F</td>\n",
              "      <td>Father</td>\n",
              "      <td>40</td>\n",
              "      <td>50</td>\n",
              "      <td>12</td>\n",
              "      <td>50</td>\n",
              "      <td>No</td>\n",
              "      <td>Bad</td>\n",
              "      <td>Above-7</td>\n",
              "      <td>M</td>\n",
              "    </tr>\n",
              "    <tr>\n",
              "      <th>...</th>\n",
              "      <td>...</td>\n",
              "      <td>...</td>\n",
              "      <td>...</td>\n",
              "      <td>...</td>\n",
              "      <td>...</td>\n",
              "      <td>...</td>\n",
              "      <td>...</td>\n",
              "      <td>...</td>\n",
              "      <td>...</td>\n",
              "      <td>...</td>\n",
              "      <td>...</td>\n",
              "      <td>...</td>\n",
              "      <td>...</td>\n",
              "      <td>...</td>\n",
              "      <td>...</td>\n",
              "      <td>...</td>\n",
              "      <td>...</td>\n",
              "    </tr>\n",
              "    <tr>\n",
              "      <th>475</th>\n",
              "      <td>F</td>\n",
              "      <td>Jordan</td>\n",
              "      <td>Jordan</td>\n",
              "      <td>MiddleSchool</td>\n",
              "      <td>G-08</td>\n",
              "      <td>A</td>\n",
              "      <td>Chemistry</td>\n",
              "      <td>S</td>\n",
              "      <td>Father</td>\n",
              "      <td>5</td>\n",
              "      <td>4</td>\n",
              "      <td>5</td>\n",
              "      <td>8</td>\n",
              "      <td>No</td>\n",
              "      <td>Bad</td>\n",
              "      <td>Above-7</td>\n",
              "      <td>L</td>\n",
              "    </tr>\n",
              "    <tr>\n",
              "      <th>476</th>\n",
              "      <td>F</td>\n",
              "      <td>Jordan</td>\n",
              "      <td>Jordan</td>\n",
              "      <td>MiddleSchool</td>\n",
              "      <td>G-08</td>\n",
              "      <td>A</td>\n",
              "      <td>Geology</td>\n",
              "      <td>F</td>\n",
              "      <td>Father</td>\n",
              "      <td>50</td>\n",
              "      <td>77</td>\n",
              "      <td>14</td>\n",
              "      <td>28</td>\n",
              "      <td>No</td>\n",
              "      <td>Bad</td>\n",
              "      <td>Under-7</td>\n",
              "      <td>M</td>\n",
              "    </tr>\n",
              "    <tr>\n",
              "      <th>477</th>\n",
              "      <td>F</td>\n",
              "      <td>Jordan</td>\n",
              "      <td>Jordan</td>\n",
              "      <td>MiddleSchool</td>\n",
              "      <td>G-08</td>\n",
              "      <td>A</td>\n",
              "      <td>Geology</td>\n",
              "      <td>S</td>\n",
              "      <td>Father</td>\n",
              "      <td>55</td>\n",
              "      <td>74</td>\n",
              "      <td>25</td>\n",
              "      <td>29</td>\n",
              "      <td>No</td>\n",
              "      <td>Bad</td>\n",
              "      <td>Under-7</td>\n",
              "      <td>M</td>\n",
              "    </tr>\n",
              "    <tr>\n",
              "      <th>478</th>\n",
              "      <td>F</td>\n",
              "      <td>Jordan</td>\n",
              "      <td>Jordan</td>\n",
              "      <td>MiddleSchool</td>\n",
              "      <td>G-08</td>\n",
              "      <td>A</td>\n",
              "      <td>History</td>\n",
              "      <td>F</td>\n",
              "      <td>Father</td>\n",
              "      <td>30</td>\n",
              "      <td>17</td>\n",
              "      <td>14</td>\n",
              "      <td>57</td>\n",
              "      <td>No</td>\n",
              "      <td>Bad</td>\n",
              "      <td>Above-7</td>\n",
              "      <td>L</td>\n",
              "    </tr>\n",
              "    <tr>\n",
              "      <th>479</th>\n",
              "      <td>F</td>\n",
              "      <td>Jordan</td>\n",
              "      <td>Jordan</td>\n",
              "      <td>MiddleSchool</td>\n",
              "      <td>G-08</td>\n",
              "      <td>A</td>\n",
              "      <td>History</td>\n",
              "      <td>S</td>\n",
              "      <td>Father</td>\n",
              "      <td>35</td>\n",
              "      <td>14</td>\n",
              "      <td>23</td>\n",
              "      <td>62</td>\n",
              "      <td>No</td>\n",
              "      <td>Bad</td>\n",
              "      <td>Above-7</td>\n",
              "      <td>L</td>\n",
              "    </tr>\n",
              "  </tbody>\n",
              "</table>\n",
              "<p>480 rows × 17 columns</p>\n",
              "</div>"
            ],
            "text/plain": [
              "    gender NationalITy  ... StudentAbsenceDays Class\n",
              "0        M          KW  ...            Under-7     M\n",
              "1        M          KW  ...            Under-7     M\n",
              "2        M          KW  ...            Above-7     L\n",
              "3        M          KW  ...            Above-7     L\n",
              "4        M          KW  ...            Above-7     M\n",
              "..     ...         ...  ...                ...   ...\n",
              "475      F      Jordan  ...            Above-7     L\n",
              "476      F      Jordan  ...            Under-7     M\n",
              "477      F      Jordan  ...            Under-7     M\n",
              "478      F      Jordan  ...            Above-7     L\n",
              "479      F      Jordan  ...            Above-7     L\n",
              "\n",
              "[480 rows x 17 columns]"
            ]
          },
          "metadata": {
            "tags": []
          },
          "execution_count": 74
        }
      ]
    },
    {
      "cell_type": "code",
      "metadata": {
        "colab": {
          "base_uri": "https://localhost:8080/"
        },
        "id": "zErceua5P_sL",
        "outputId": "9092cff7-af1f-4f57-fc01-a913d047c558"
      },
      "source": [
        "stud_data.columns"
      ],
      "execution_count": 75,
      "outputs": [
        {
          "output_type": "execute_result",
          "data": {
            "text/plain": [
              "Index(['gender', 'NationalITy', 'PlaceofBirth', 'StageID', 'GradeID',\n",
              "       'SectionID', 'Topic', 'Semester', 'Relation', 'raisedhands',\n",
              "       'VisITedResources', 'AnnouncementsView', 'Discussion',\n",
              "       'ParentAnsweringSurvey', 'ParentschoolSatisfaction',\n",
              "       'StudentAbsenceDays', 'Class'],\n",
              "      dtype='object')"
            ]
          },
          "metadata": {
            "tags": []
          },
          "execution_count": 75
        }
      ]
    },
    {
      "cell_type": "code",
      "metadata": {
        "colab": {
          "base_uri": "https://localhost:8080/"
        },
        "id": "blcGk3zEIwJt",
        "outputId": "13ab5fd7-21b9-4de6-fde7-cf3933400a19"
      },
      "source": [
        "stud_data.shape"
      ],
      "execution_count": 76,
      "outputs": [
        {
          "output_type": "execute_result",
          "data": {
            "text/plain": [
              "(480, 17)"
            ]
          },
          "metadata": {
            "tags": []
          },
          "execution_count": 76
        }
      ]
    },
    {
      "cell_type": "code",
      "metadata": {
        "id": "t3daczInIzXU"
      },
      "source": [
        "stud_data.rename(index=str,columns={'gender':'Gender', 'NationalITy':'Nationality','raisedhands':'RaisedHands', 'VisITedResources':'VisitedResources'},inplace=True)"
      ],
      "execution_count": 77,
      "outputs": []
    },
    {
      "cell_type": "code",
      "metadata": {
        "id": "LlfLZcmII6gO"
      },
      "source": [
        "df=stud_data.drop(columns=['Relation','ParentAnsweringSurvey','AnnouncementsView'])"
      ],
      "execution_count": 78,
      "outputs": []
    },
    {
      "cell_type": "code",
      "metadata": {
        "colab": {
          "base_uri": "https://localhost:8080/",
          "height": 279
        },
        "id": "BnBJdG_hI-Za",
        "outputId": "b02b8b34-3aac-4982-ab84-fadee9983bda"
      },
      "source": [
        "counts=sns.countplot(x='Class',data=df)"
      ],
      "execution_count": 79,
      "outputs": [
        {
          "output_type": "display_data",
          "data": {
            "image/png": "[encoded data removed]",
            "text/plain": [
              "<Figure size 432x288 with 1 Axes>"
            ]
          },
          "metadata": {
            "tags": [],
            "needs_background": "light"
          }
        }
      ]
    },
    {
      "cell_type": "code",
      "metadata": {
        "colab": {
          "base_uri": "https://localhost:8080/",
          "height": 347
        },
        "id": "kJVZqMxobtsk",
        "outputId": "47f5a1c3-69b1-4223-e680-f478dff6d981"
      },
      "source": [
        "nation=sns.countplot(x='Nationality',data=df)\n",
        "nation.set(xlabel='Nationality', ylabel='Count', title='Nationality Representation')\n",
        "plt.setp(nation.get_xticklabels(), rotation=80)\n",
        "plt.show()"
      ],
      "execution_count": 80,
      "outputs": [
        {
          "output_type": "display_data",
          "data": {
            "image/png": "[encoded data removed]",
            "text/plain": [
              "<Figure size 432x288 with 1 Axes>"
            ]
          },
          "metadata": {
            "tags": [],
            "needs_background": "light"
          }
        }
      ]
    },
    {
      "cell_type": "code",
      "metadata": {
        "colab": {
          "base_uri": "https://localhost:8080/",
          "height": 279
        },
        "id": "5K59UFSsbQEx",
        "outputId": "565b92bc-5ddc-44ad-db3a-a63d2c2954c0"
      },
      "source": [
        "sem=sns.countplot(x='Class',data=df,hue='Semester',palette='coolwarm')"
      ],
      "execution_count": 81,
      "outputs": [
        {
          "output_type": "display_data",
          "data": {
            "image/png": "[encoded data removed]",
            "text/plain": [
              "<Figure size 432x288 with 1 Axes>"
            ]
          },
          "metadata": {
            "tags": [],
            "needs_background": "light"
          }
        }
      ]
    },
    {
      "cell_type": "code",
      "metadata": {
        "id": "cmS4xbeabbCu"
      },
      "source": [
        "X = df.drop('Class', axis=1)\n",
        "y = df['Class']"
      ],
      "execution_count": 82,
      "outputs": []
    },
    {
      "cell_type": "code",
      "metadata": {
        "colab": {
          "base_uri": "https://localhost:8080/"
        },
        "id": "t8R-TEc7VwqQ",
        "outputId": "0645e4bc-6e6c-4da6-e1f6-e54c308357bc"
      },
      "source": [
        "len(df.columns)"
      ],
      "execution_count": 83,
      "outputs": [
        {
          "output_type": "execute_result",
          "data": {
            "text/plain": [
              "14"
            ]
          },
          "metadata": {
            "tags": []
          },
          "execution_count": 83
        }
      ]
    },
    {
      "cell_type": "markdown",
      "metadata": {
        "id": "rjH6jfb46QSu"
      },
      "source": [
        "##Modelling on Data"
      ]
    },
    {
      "cell_type": "code",
      "metadata": {
        "id": "wcVG3VBrcKJu"
      },
      "source": [
        "# Encoding our categorical columns in X\n",
        "labelEncoder = LabelEncoder()\n",
        "cat_columns = X.dtypes.pipe(lambda x: x[x == 'object']).index\n",
        "for col in cat_columns:\n",
        "    X[col] = labelEncoder.fit_transform(X[col])\n",
        "#print(df)\n",
        "X_train, X_test, y_train, y_test = train_test_split(X, y, test_size=0.3, random_state=52)"
      ],
      "execution_count": 84,
      "outputs": []
    },
    {
      "cell_type": "code",
      "metadata": {
        "colab": {
          "base_uri": "https://localhost:8080/"
        },
        "id": "53FRTfObZrqp",
        "outputId": "5c86f359-dd89-4c9f-8f36-21e5961365fc"
      },
      "source": [
        "cat_columns"
      ],
      "execution_count": 85,
      "outputs": [
        {
          "output_type": "execute_result",
          "data": {
            "text/plain": [
              "Index(['Gender', 'Nationality', 'PlaceofBirth', 'StageID', 'GradeID',\n",
              "       'SectionID', 'Topic', 'Semester', 'ParentschoolSatisfaction',\n",
              "       'StudentAbsenceDays'],\n",
              "      dtype='object')"
            ]
          },
          "metadata": {
            "tags": []
          },
          "execution_count": 85
        }
      ]
    },
    {
      "cell_type": "code",
      "metadata": {
        "colab": {
          "base_uri": "https://localhost:8080/"
        },
        "id": "Xz5Q-teEcPCZ",
        "outputId": "2d8f4e32-ad4a-419e-c9dc-5a11aa06b188"
      },
      "source": [
        "# Logistic Regression as baseline, then exploring tree-based methods\n",
        "from sklearn.tree import DecisionTreeClassifier\n",
        "from sklearn.linear_model import LogisticRegression\n",
        "from sklearn.ensemble import RandomForestClassifier\n",
        "from sklearn.svm import SVC\n",
        "\n",
        "keys = []\n",
        "scores = []\n",
        "models = {'Logistic Regression': LogisticRegression(), 'Decision Tree': DecisionTreeClassifier(),\n",
        "          'Random Forest': RandomForestClassifier(n_estimators=300, random_state=52),'SVM':SVC()}\n",
        "\n",
        "for k,v in models.items():\n",
        "    mod = v\n",
        "    mod.fit(X_train, y_train)\n",
        "    pred = mod.predict(X_test)\n",
        "    print('Results for: ' + str(k) + '\\n')\n",
        "    print(confusion_matrix(y_test, pred))\n",
        "    print(classification_report(y_test, pred))\n",
        "    acc = accuracy_score(y_test, pred)\n",
        "    print(\"accuracy is \"+ str(acc))\n",
        "    print('\\n' + '\\n')\n",
        "    keys.append(k)\n",
        "    scores.append(acc)\n",
        "    table = pd.DataFrame({'model':keys, 'accuracy score':scores})\n",
        "\n",
        "print(table)"
      ],
      "execution_count": 86,
      "outputs": [
        {
          "output_type": "stream",
          "text": [
            "/usr/local/lib/python3.6/dist-packages/sklearn/linear_model/_logistic.py:940: ConvergenceWarning: lbfgs failed to converge (status=1):\n",
            "STOP: TOTAL NO. of ITERATIONS REACHED LIMIT.\n",
            "\n",
            "Increase the number of iterations (max_iter) or scale the data as shown in:\n",
            "    https://scikit-learn.org/stable/modules/preprocessing.html\n",
            "Please also refer to the documentation for alternative solver options:\n",
            "    https://scikit-learn.org/stable/modules/linear_model.html#logistic-regression\n",
            "  extra_warning_msg=_LOGISTIC_SOLVER_CONVERGENCE_MSG)\n"
          ],
          "name": "stderr"
        },
        {
          "output_type": "stream",
          "text": [
            "Results for: Logistic Regression\n",
            "\n",
            "[[31  0 21]\n",
            " [ 0 30  6]\n",
            " [ 8  5 43]]\n",
            "              precision    recall  f1-score   support\n",
            "\n",
            "           H       0.79      0.60      0.68        52\n",
            "           L       0.86      0.83      0.85        36\n",
            "           M       0.61      0.77      0.68        56\n",
            "\n",
            "    accuracy                           0.72       144\n",
            "   macro avg       0.76      0.73      0.74       144\n",
            "weighted avg       0.74      0.72      0.72       144\n",
            "\n",
            "accuracy is 0.7222222222222222\n",
            "\n",
            "\n",
            "\n",
            "Results for: Decision Tree\n",
            "\n",
            "[[28  0 24]\n",
            " [ 1 27  8]\n",
            " [18  5 33]]\n",
            "              precision    recall  f1-score   support\n",
            "\n",
            "           H       0.60      0.54      0.57        52\n",
            "           L       0.84      0.75      0.79        36\n",
            "           M       0.51      0.59      0.55        56\n",
            "\n",
            "    accuracy                           0.61       144\n",
            "   macro avg       0.65      0.63      0.64       144\n",
            "weighted avg       0.62      0.61      0.61       144\n",
            "\n",
            "accuracy is 0.6111111111111112\n",
            "\n",
            "\n",
            "\n",
            "Results for: Random Forest\n",
            "\n",
            "[[31  0 21]\n",
            " [ 1 32  3]\n",
            " [ 3  4 49]]\n",
            "              precision    recall  f1-score   support\n",
            "\n",
            "           H       0.89      0.60      0.71        52\n",
            "           L       0.89      0.89      0.89        36\n",
            "           M       0.67      0.88      0.76        56\n",
            "\n",
            "    accuracy                           0.78       144\n",
            "   macro avg       0.82      0.79      0.79       144\n",
            "weighted avg       0.80      0.78      0.78       144\n",
            "\n",
            "accuracy is 0.7777777777777778\n",
            "\n",
            "\n",
            "\n",
            "Results for: SVM\n",
            "\n",
            "[[26  1 25]\n",
            " [ 0 28  8]\n",
            " [ 7 10 39]]\n",
            "              precision    recall  f1-score   support\n",
            "\n",
            "           H       0.79      0.50      0.61        52\n",
            "           L       0.72      0.78      0.75        36\n",
            "           M       0.54      0.70      0.61        56\n",
            "\n",
            "    accuracy                           0.65       144\n",
            "   macro avg       0.68      0.66      0.66       144\n",
            "weighted avg       0.67      0.65      0.64       144\n",
            "\n",
            "accuracy is 0.6458333333333334\n",
            "\n",
            "\n",
            "\n",
            "                 model  accuracy score\n",
            "0  Logistic Regression        0.722222\n",
            "1        Decision Tree        0.611111\n",
            "2        Random Forest        0.777778\n",
            "3                  SVM        0.645833\n"
          ],
          "name": "stdout"
        }
      ]
    },
    {
      "cell_type": "markdown",
      "metadata": {
        "id": "c6j2ykoIcY8A"
      },
      "source": [
        "Random forest is the best classifier, giving maximum accuracy."
      ]
    },
    {
      "cell_type": "code",
      "metadata": {
        "colab": {
          "base_uri": "https://localhost:8080/"
        },
        "id": "QYS7srEzcVxp",
        "outputId": "67dfda28-a875-46ff-ee91-d8ed2192178f"
      },
      "source": [
        "from sklearn.metrics import classification_report, confusion_matrix\n",
        "\n",
        "rfc=RandomForestClassifier(n_estimators=300, random_state=52)\n",
        "rfc.fit(X_train,y_train)\n",
        "yp=rfc.predict(X_test)\n",
        "\n",
        "print(\"=== Confusion Matrix ===\")\n",
        "print(confusion_matrix(y_test, yp))\n",
        "print('\\n')\n",
        "print(\"=== Classification Report ===\")\n",
        "print(classification_report(y_test, yp))\n",
        "print('\\n')\n",
        "print(\"=== Accuracy Score ===\")\n",
        "print(accuracy_score(yp,y_test))"
      ],
      "execution_count": 87,
      "outputs": [
        {
          "output_type": "stream",
          "text": [
            "=== Confusion Matrix ===\n",
            "[[31  0 21]\n",
            " [ 1 32  3]\n",
            " [ 3  4 49]]\n",
            "\n",
            "\n",
            "=== Classification Report ===\n",
            "              precision    recall  f1-score   support\n",
            "\n",
            "           H       0.89      0.60      0.71        52\n",
            "           L       0.89      0.89      0.89        36\n",
            "           M       0.67      0.88      0.76        56\n",
            "\n",
            "    accuracy                           0.78       144\n",
            "   macro avg       0.82      0.79      0.79       144\n",
            "weighted avg       0.80      0.78      0.78       144\n",
            "\n",
            "\n",
            "\n",
            "=== Accuracy Score ===\n",
            "0.7777777777777778\n"
          ],
          "name": "stdout"
        }
      ]
    },
    {
      "cell_type": "markdown",
      "metadata": {
        "id": "-AfVPN626eBh"
      },
      "source": [
        "#Feature Selection"
      ]
    },
    {
      "cell_type": "code",
      "metadata": {
        "id": "4FRuPjDCUQD6"
      },
      "source": [
        "def select_features(X_train, y_train, X_test):\r\n",
        "\t# configure to select all features\r\n",
        "\tfs = SelectKBest(score_func=mutual_info_classif, k='all')\r\n",
        "\t# learn relationship from training data\r\n",
        "\tfs.fit(X_train, y_train)\r\n",
        "\t# transform train input data\r\n",
        "\tX_train_fs = fs.transform(X_train)\r\n",
        "\t# transform test input data\r\n",
        "\tX_test_fs = fs.transform(X_test)\r\n",
        "\treturn X_train_fs, X_test_fs, fs"
      ],
      "execution_count": 88,
      "outputs": []
    },
    {
      "cell_type": "code",
      "metadata": {
        "colab": {
          "base_uri": "https://localhost:8080/",
          "height": 483
        },
        "id": "z_8YRC24A-0x",
        "outputId": "164b8afe-ce93-4f78-b616-65afd5e0b29a"
      },
      "source": [
        "from sklearn.feature_selection import SelectKBest\r\n",
        "from sklearn.feature_selection import mutual_info_classif\r\n",
        "from matplotlib import pyplot\r\n",
        "\r\n",
        "X_train_fs, X_test_fs, fs = select_features(X_train, y_train, X_test)\r\n",
        "for i in range(len(fs.scores_)):\r\n",
        "\tprint('Feature %d: %f' % (i, fs.scores_[i]))\r\n",
        "# plot the scores\r\n",
        "pyplot.bar([i for i in range(len(fs.scores_))], fs.scores_)\r\n",
        "pyplot.show()"
      ],
      "execution_count": 89,
      "outputs": [
        {
          "output_type": "stream",
          "text": [
            "Feature 0: 0.023032\n",
            "Feature 1: 0.029842\n",
            "Feature 2: 0.032756\n",
            "Feature 3: 0.027770\n",
            "Feature 4: 0.015463\n",
            "Feature 5: 0.001762\n",
            "Feature 6: 0.045171\n",
            "Feature 7: 0.000000\n",
            "Feature 8: 0.269712\n",
            "Feature 9: 0.325756\n",
            "Feature 10: 0.045263\n",
            "Feature 11: 0.118698\n",
            "Feature 12: 0.234375\n"
          ],
          "name": "stdout"
        },
        {
          "output_type": "display_data",
          "data": {
            "image/png": "[encoded data removed]",
            "text/plain": [
              "<Figure size 432x288 with 1 Axes>"
            ]
          },
          "metadata": {
            "tags": [],
            "needs_background": "light"
          }
        }
      ]
    },
    {
      "cell_type": "code",
      "metadata": {
        "colab": {
          "base_uri": "https://localhost:8080/"
        },
        "id": "UuFsMAVpBmeH",
        "outputId": "8118a00f-ba16-455a-a0dc-4566cd704cb8"
      },
      "source": [
        "model = LogisticRegression(solver='liblinear')\r\n",
        "model.fit(X_train_fs, y_train)\r\n",
        "# evaluate the model\r\n",
        "yhat = model.predict(X_test_fs)\r\n",
        "# evaluate predictions\r\n",
        "accuracy = accuracy_score(y_test, yhat)\r\n",
        "print('Accuracy: %.2f' % (accuracy*100))"
      ],
      "execution_count": 90,
      "outputs": [
        {
          "output_type": "stream",
          "text": [
            "Accuracy: 71.53\n"
          ],
          "name": "stdout"
        }
      ]
    },
    {
      "cell_type": "code",
      "metadata": {
        "colab": {
          "base_uri": "https://localhost:8080/"
        },
        "id": "gRkrIYpxB3Wb",
        "outputId": "2506aa91-5715-44fe-f899-41adeb218497"
      },
      "source": [
        "from pandas import read_csv\r\n",
        "from sklearn.model_selection import RepeatedStratifiedKFold\r\n",
        "from sklearn.feature_selection import SelectKBest\r\n",
        "from sklearn.feature_selection import f_classif\r\n",
        "from sklearn.linear_model import LogisticRegression\r\n",
        "from sklearn.pipeline import Pipeline\r\n",
        "from sklearn.model_selection import GridSearchCV\r\n",
        "from matplotlib import pyplot\r\n",
        "\r\n",
        "cv = RepeatedStratifiedKFold(n_splits=10, n_repeats=3, random_state=1)\r\n",
        "# define the pipeline to evaluate\r\n",
        "model = LogisticRegression(solver='liblinear')\r\n",
        "fs = SelectKBest(score_func=f_classif)\r\n",
        "pipeline = Pipeline(steps=[('anova',fs), ('lr', model)])\r\n",
        "# define the grid\r\n",
        "grid = dict()\r\n",
        "grid['anova__k'] = [i+1 for i in range(X.shape[1])]\r\n",
        "# define the grid search\r\n",
        "search = GridSearchCV(pipeline, grid, scoring='accuracy', n_jobs=-1, cv=cv)\r\n",
        "# perform the search\r\n",
        "results = search.fit(X, y)\r\n",
        "# summarize best\r\n",
        "print('Best Mean Accuracy: %.3f' % results.best_score_)\r\n",
        "print('Best Config: %s' % results.best_params_)"
      ],
      "execution_count": 91,
      "outputs": [
        {
          "output_type": "stream",
          "text": [
            "Best Mean Accuracy: 0.713\n",
            "Best Config: {'anova__k': 5}\n"
          ],
          "name": "stdout"
        }
      ]
    },
    {
      "cell_type": "markdown",
      "metadata": {
        "id": "gbQsN6Kx6jm_"
      },
      "source": [
        "##Custom Input\r\n"
      ]
    },
    {
      "cell_type": "code",
      "metadata": {
        "id": "CL_-ASRrEu7y"
      },
      "source": [
        "#data = np.array(data, dtype=np.float32)\n",
        "#y = list(map(int, y))\n",
        "\n",
        "import numpy as np\n",
        "test2={'Gender':'M', 'Nationality':'KW', 'PlaceofBirth':'KuwaIT', 'StageID':'lowerlevel', 'GradeID':'G-02',\n",
        "       'SectionID':'A', 'Topic':'IT', 'Semester':'F', 'RaisedHands':[8], 'VisitedResources':[25],\n",
        "       'Discussion':[70], 'ParentschoolSatisfaction':'Bad', 'StudentAbsenceDays':'Above-7',\n",
        "       'Class':'L'}\n",
        "p=pd.DataFrame.from_dict(test2)\n",
        "test2=p.drop('Class',axis=1)\n",
        "y1=p['Class']"
      ],
      "execution_count": 92,
      "outputs": []
    },
    {
      "cell_type": "code",
      "metadata": {
        "id": "jxNX6GABVAfy"
      },
      "source": [
        "# Encoding our categorical columns in X\n",
        "labelEncoder = LabelEncoder()\n",
        "cat_columns = test2.dtypes.pipe(lambda x: x[x == 'object']).index\n",
        "for col in cat_columns:\n",
        "    test2[col] = labelEncoder.fit_transform(test2[col])\n",
        "#print(df)\n",
        "#x1_train, x1_test, y1_train, y1_test = train_test_split(x1, y1, test_size=0.3, random_state=52)\n",
        "from sklearn.metrics import classification_report, confusion_matrix"
      ],
      "execution_count": 93,
      "outputs": []
    },
    {
      "cell_type": "code",
      "metadata": {
        "colab": {
          "base_uri": "https://localhost:8080/"
        },
        "id": "3kmZhm6SG18V",
        "outputId": "8cbf25fc-6ef1-46b9-d44e-c75dafa41f6d"
      },
      "source": [
        "rfc=RandomForestClassifier(n_estimators=300, random_state=52)\n",
        "rfc.fit(X_train,y_train)\n",
        "yp1=rfc.predict(test2)\n",
        "yp1"
      ],
      "execution_count": 94,
      "outputs": [
        {
          "output_type": "execute_result",
          "data": {
            "text/plain": [
              "array(['L'], dtype=object)"
            ]
          },
          "metadata": {
            "tags": []
          },
          "execution_count": 94
        }
      ]
    },
    {
      "cell_type": "code",
      "metadata": {
        "colab": {
          "base_uri": "https://localhost:8080/",
          "height": 97
        },
        "id": "16183SC8h8nP",
        "outputId": "22c7564a-c202-4d7a-ee1e-3115c9624345"
      },
      "source": [
        "p['Class']=yp1\n",
        "p"
      ],
      "execution_count": 95,
      "outputs": [
        {
          "output_type": "execute_result",
          "data": {
            "text/html": [
              "<div>\n",
              "<style scoped>\n",
              "    .dataframe tbody tr th:only-of-type {\n",
              "        vertical-align: middle;\n",
              "    }\n",
              "\n",
              "    .dataframe tbody tr th {\n",
              "        vertical-align: top;\n",
              "    }\n",
              "\n",
              "    .dataframe thead th {\n",
              "        text-align: right;\n",
              "    }\n",
              "</style>\n",
              "<table border=\"1\" class=\"dataframe\">\n",
              "  <thead>\n",
              "    <tr style=\"text-align: right;\">\n",
              "      <th></th>\n",
              "      <th>Gender</th>\n",
              "      <th>Nationality</th>\n",
              "      <th>PlaceofBirth</th>\n",
              "      <th>StageID</th>\n",
              "      <th>GradeID</th>\n",
              "      <th>SectionID</th>\n",
              "      <th>Topic</th>\n",
              "      <th>Semester</th>\n",
              "      <th>RaisedHands</th>\n",
              "      <th>VisitedResources</th>\n",
              "      <th>Discussion</th>\n",
              "      <th>ParentschoolSatisfaction</th>\n",
              "      <th>StudentAbsenceDays</th>\n",
              "      <th>Class</th>\n",
              "    </tr>\n",
              "  </thead>\n",
              "  <tbody>\n",
              "    <tr>\n",
              "      <th>0</th>\n",
              "      <td>M</td>\n",
              "      <td>KW</td>\n",
              "      <td>KuwaIT</td>\n",
              "      <td>lowerlevel</td>\n",
              "      <td>G-02</td>\n",
              "      <td>A</td>\n",
              "      <td>IT</td>\n",
              "      <td>F</td>\n",
              "      <td>8</td>\n",
              "      <td>25</td>\n",
              "      <td>70</td>\n",
              "      <td>Bad</td>\n",
              "      <td>Above-7</td>\n",
              "      <td>L</td>\n",
              "    </tr>\n",
              "  </tbody>\n",
              "</table>\n",
              "</div>"
            ],
            "text/plain": [
              "  Gender Nationality  ... StudentAbsenceDays Class\n",
              "0      M          KW  ...            Above-7     L\n",
              "\n",
              "[1 rows x 14 columns]"
            ]
          },
          "metadata": {
            "tags": []
          },
          "execution_count": 95
        }
      ]
    },
    {
      "cell_type": "code",
      "metadata": {
        "colab": {
          "base_uri": "https://localhost:8080/",
          "height": 422
        },
        "id": "1z7lMlmsiArR",
        "outputId": "a06f6006-427b-4b09-bfd2-311ca6e6d96d"
      },
      "source": [
        "datafrm = pd.concat([df,p], ignore_index=True)\n",
        "datafrm"
      ],
      "execution_count": 96,
      "outputs": [
        {
          "output_type": "execute_result",
          "data": {
            "text/html": [
              "<div>\n",
              "<style scoped>\n",
              "    .dataframe tbody tr th:only-of-type {\n",
              "        vertical-align: middle;\n",
              "    }\n",
              "\n",
              "    .dataframe tbody tr th {\n",
              "        vertical-align: top;\n",
              "    }\n",
              "\n",
              "    .dataframe thead th {\n",
              "        text-align: right;\n",
              "    }\n",
              "</style>\n",
              "<table border=\"1\" class=\"dataframe\">\n",
              "  <thead>\n",
              "    <tr style=\"text-align: right;\">\n",
              "      <th></th>\n",
              "      <th>Gender</th>\n",
              "      <th>Nationality</th>\n",
              "      <th>PlaceofBirth</th>\n",
              "      <th>StageID</th>\n",
              "      <th>GradeID</th>\n",
              "      <th>SectionID</th>\n",
              "      <th>Topic</th>\n",
              "      <th>Semester</th>\n",
              "      <th>RaisedHands</th>\n",
              "      <th>VisitedResources</th>\n",
              "      <th>Discussion</th>\n",
              "      <th>ParentschoolSatisfaction</th>\n",
              "      <th>StudentAbsenceDays</th>\n",
              "      <th>Class</th>\n",
              "    </tr>\n",
              "  </thead>\n",
              "  <tbody>\n",
              "    <tr>\n",
              "      <th>0</th>\n",
              "      <td>M</td>\n",
              "      <td>KW</td>\n",
              "      <td>KuwaIT</td>\n",
              "      <td>lowerlevel</td>\n",
              "      <td>G-04</td>\n",
              "      <td>A</td>\n",
              "      <td>IT</td>\n",
              "      <td>F</td>\n",
              "      <td>15</td>\n",
              "      <td>16</td>\n",
              "      <td>20</td>\n",
              "      <td>Good</td>\n",
              "      <td>Under-7</td>\n",
              "      <td>M</td>\n",
              "    </tr>\n",
              "    <tr>\n",
              "      <th>1</th>\n",
              "      <td>M</td>\n",
              "      <td>KW</td>\n",
              "      <td>KuwaIT</td>\n",
              "      <td>lowerlevel</td>\n",
              "      <td>G-04</td>\n",
              "      <td>A</td>\n",
              "      <td>IT</td>\n",
              "      <td>F</td>\n",
              "      <td>20</td>\n",
              "      <td>20</td>\n",
              "      <td>25</td>\n",
              "      <td>Good</td>\n",
              "      <td>Under-7</td>\n",
              "      <td>M</td>\n",
              "    </tr>\n",
              "    <tr>\n",
              "      <th>2</th>\n",
              "      <td>M</td>\n",
              "      <td>KW</td>\n",
              "      <td>KuwaIT</td>\n",
              "      <td>lowerlevel</td>\n",
              "      <td>G-04</td>\n",
              "      <td>A</td>\n",
              "      <td>IT</td>\n",
              "      <td>F</td>\n",
              "      <td>10</td>\n",
              "      <td>7</td>\n",
              "      <td>30</td>\n",
              "      <td>Bad</td>\n",
              "      <td>Above-7</td>\n",
              "      <td>L</td>\n",
              "    </tr>\n",
              "    <tr>\n",
              "      <th>3</th>\n",
              "      <td>M</td>\n",
              "      <td>KW</td>\n",
              "      <td>KuwaIT</td>\n",
              "      <td>lowerlevel</td>\n",
              "      <td>G-04</td>\n",
              "      <td>A</td>\n",
              "      <td>IT</td>\n",
              "      <td>F</td>\n",
              "      <td>30</td>\n",
              "      <td>25</td>\n",
              "      <td>35</td>\n",
              "      <td>Bad</td>\n",
              "      <td>Above-7</td>\n",
              "      <td>L</td>\n",
              "    </tr>\n",
              "    <tr>\n",
              "      <th>4</th>\n",
              "      <td>M</td>\n",
              "      <td>KW</td>\n",
              "      <td>KuwaIT</td>\n",
              "      <td>lowerlevel</td>\n",
              "      <td>G-04</td>\n",
              "      <td>A</td>\n",
              "      <td>IT</td>\n",
              "      <td>F</td>\n",
              "      <td>40</td>\n",
              "      <td>50</td>\n",
              "      <td>50</td>\n",
              "      <td>Bad</td>\n",
              "      <td>Above-7</td>\n",
              "      <td>M</td>\n",
              "    </tr>\n",
              "    <tr>\n",
              "      <th>...</th>\n",
              "      <td>...</td>\n",
              "      <td>...</td>\n",
              "      <td>...</td>\n",
              "      <td>...</td>\n",
              "      <td>...</td>\n",
              "      <td>...</td>\n",
              "      <td>...</td>\n",
              "      <td>...</td>\n",
              "      <td>...</td>\n",
              "      <td>...</td>\n",
              "      <td>...</td>\n",
              "      <td>...</td>\n",
              "      <td>...</td>\n",
              "      <td>...</td>\n",
              "    </tr>\n",
              "    <tr>\n",
              "      <th>476</th>\n",
              "      <td>F</td>\n",
              "      <td>Jordan</td>\n",
              "      <td>Jordan</td>\n",
              "      <td>MiddleSchool</td>\n",
              "      <td>G-08</td>\n",
              "      <td>A</td>\n",
              "      <td>Geology</td>\n",
              "      <td>F</td>\n",
              "      <td>50</td>\n",
              "      <td>77</td>\n",
              "      <td>28</td>\n",
              "      <td>Bad</td>\n",
              "      <td>Under-7</td>\n",
              "      <td>M</td>\n",
              "    </tr>\n",
              "    <tr>\n",
              "      <th>477</th>\n",
              "      <td>F</td>\n",
              "      <td>Jordan</td>\n",
              "      <td>Jordan</td>\n",
              "      <td>MiddleSchool</td>\n",
              "      <td>G-08</td>\n",
              "      <td>A</td>\n",
              "      <td>Geology</td>\n",
              "      <td>S</td>\n",
              "      <td>55</td>\n",
              "      <td>74</td>\n",
              "      <td>29</td>\n",
              "      <td>Bad</td>\n",
              "      <td>Under-7</td>\n",
              "      <td>M</td>\n",
              "    </tr>\n",
              "    <tr>\n",
              "      <th>478</th>\n",
              "      <td>F</td>\n",
              "      <td>Jordan</td>\n",
              "      <td>Jordan</td>\n",
              "      <td>MiddleSchool</td>\n",
              "      <td>G-08</td>\n",
              "      <td>A</td>\n",
              "      <td>History</td>\n",
              "      <td>F</td>\n",
              "      <td>30</td>\n",
              "      <td>17</td>\n",
              "      <td>57</td>\n",
              "      <td>Bad</td>\n",
              "      <td>Above-7</td>\n",
              "      <td>L</td>\n",
              "    </tr>\n",
              "    <tr>\n",
              "      <th>479</th>\n",
              "      <td>F</td>\n",
              "      <td>Jordan</td>\n",
              "      <td>Jordan</td>\n",
              "      <td>MiddleSchool</td>\n",
              "      <td>G-08</td>\n",
              "      <td>A</td>\n",
              "      <td>History</td>\n",
              "      <td>S</td>\n",
              "      <td>35</td>\n",
              "      <td>14</td>\n",
              "      <td>62</td>\n",
              "      <td>Bad</td>\n",
              "      <td>Above-7</td>\n",
              "      <td>L</td>\n",
              "    </tr>\n",
              "    <tr>\n",
              "      <th>480</th>\n",
              "      <td>M</td>\n",
              "      <td>KW</td>\n",
              "      <td>KuwaIT</td>\n",
              "      <td>lowerlevel</td>\n",
              "      <td>G-02</td>\n",
              "      <td>A</td>\n",
              "      <td>IT</td>\n",
              "      <td>F</td>\n",
              "      <td>8</td>\n",
              "      <td>25</td>\n",
              "      <td>70</td>\n",
              "      <td>Bad</td>\n",
              "      <td>Above-7</td>\n",
              "      <td>L</td>\n",
              "    </tr>\n",
              "  </tbody>\n",
              "</table>\n",
              "<p>481 rows × 14 columns</p>\n",
              "</div>"
            ],
            "text/plain": [
              "    Gender Nationality  ... StudentAbsenceDays Class\n",
              "0        M          KW  ...            Under-7     M\n",
              "1        M          KW  ...            Under-7     M\n",
              "2        M          KW  ...            Above-7     L\n",
              "3        M          KW  ...            Above-7     L\n",
              "4        M          KW  ...            Above-7     M\n",
              "..     ...         ...  ...                ...   ...\n",
              "476      F      Jordan  ...            Under-7     M\n",
              "477      F      Jordan  ...            Under-7     M\n",
              "478      F      Jordan  ...            Above-7     L\n",
              "479      F      Jordan  ...            Above-7     L\n",
              "480      M          KW  ...            Above-7     L\n",
              "\n",
              "[481 rows x 14 columns]"
            ]
          },
          "metadata": {
            "tags": []
          },
          "execution_count": 96
        }
      ]
    },
    {
      "cell_type": "code",
      "metadata": {
        "colab": {
          "base_uri": "https://localhost:8080/"
        },
        "id": "f2h9E-RA9T1G",
        "outputId": "35704e71-94e2-4a7b-c8a8-d96b2883024d"
      },
      "source": [
        "df.columns"
      ],
      "execution_count": 97,
      "outputs": [
        {
          "output_type": "execute_result",
          "data": {
            "text/plain": [
              "Index(['Gender', 'Nationality', 'PlaceofBirth', 'StageID', 'GradeID',\n",
              "       'SectionID', 'Topic', 'Semester', 'RaisedHands', 'VisitedResources',\n",
              "       'Discussion', 'ParentschoolSatisfaction', 'StudentAbsenceDays',\n",
              "       'Class'],\n",
              "      dtype='object')"
            ]
          },
          "metadata": {
            "tags": []
          },
          "execution_count": 97
        }
      ]
    },
    {
      "cell_type": "code",
      "metadata": {
        "colab": {
          "base_uri": "https://localhost:8080/",
          "height": 1000
        },
        "id": "Sk-I2JrzicEq",
        "outputId": "8ea3524e-e76c-448c-d82e-da83921cf0cf"
      },
      "source": [
        "from sklearn.model_selection import train_test_split\n",
        "\n",
        "le=LabelEncoder()\n",
        "X=datafrm.iloc[:,:-1]\n",
        "y=datafrm.iloc[:,-1:]\n",
        "\n",
        "X_train, X_test, y_train, y_test = train_test_split(X, y, test_size=0.3, random_state=52)\n",
        "\n",
        "X_train_encoded = X_train.apply(le.fit_transform)\n",
        "y_train_encoded = y_train.apply(le.fit_transform)\n",
        "\n",
        "for i in range(1):\n",
        "  print('GIVE THE INPUT:- ',end='\\n')\n",
        "  print('Gender(M/F)     ',end='')\n",
        "  gen=input()\n",
        "  print('Nationality     ',end='')\n",
        "  nat=input()\n",
        "  print('PlaceofBirth     ',end='')\n",
        "  pob=input()\n",
        "  print('StageID     ',end='')\n",
        "  sid=input()\n",
        "  print('GradeID     ',end='')\n",
        "  gid=input()\n",
        "  print('SectionID     ',end='')\n",
        "  seid=input()\n",
        "  print('Topic     ',end='')\n",
        "  topic=input()\n",
        "  print('Semester     ',end='')\n",
        "  sem=input()\n",
        "  print('RaisedHands     ',end='')\n",
        "  rh=input()\n",
        "  print('VisitedResources     ',end='')\n",
        "  vr=input()\n",
        "  print('Discussion     ',end='')\n",
        "  dis=input()\n",
        "  print('ParentschoolSatisfaction     ',end='')\n",
        "  pss=input()\n",
        "  print('StudentAbsenceDays     ',end='')\n",
        "  sad=input()\n",
        "  values={'Gender':gen, \n",
        "       'Nationality':nat, \n",
        "       'PlaceofBirth':pob, \n",
        "       'StageID':sid, \n",
        "       'GradeID':gid,\n",
        "       'SectionID':seid, \n",
        "       'Topic':topic, \n",
        "       'Semester':sem,\n",
        "       'RaisedHands':rh, \n",
        "       'VisitedResources':vr,\n",
        "       'Discussion':dis,\n",
        "       'ParentschoolSatisfaction':pss,\n",
        "       'StudentAbsenceDays':sad,\n",
        "       }\n",
        "  values=pd.DataFrame.from_dict(values,orient='index')\n",
        "  #t=pd.DataFrame.from_dict(values).drop('Class').T\n",
        "  labelEncoder = LabelEncoder()\n",
        "  tr=np.transpose(values)\n",
        "\n",
        "  cat_columns = tr.dtypes.pipe(lambda x: x[x == 'object']).index\n",
        "  for col in cat_columns:\n",
        "      tr[col] = labelEncoder.fit_transform(tr[col])\n",
        "      print(tr[col])\n",
        "      \n",
        "  rfc=RandomForestClassifier(n_estimators=300, random_state=52)\n",
        "  rfc.fit(X_train_encoded,y_train_encoded)\n",
        "  clss=rfc.predict(tr)\n",
        "  d=values.T\n",
        "  d['Class']=''\n",
        "  d['Class']=le.inverse_transform(clss).astype(str)[0]\n",
        "  datafrm = pd.concat([df,d], ignore_index=True)\n",
        "datafrm"
      ],
      "execution_count": 98,
      "outputs": [
        {
          "output_type": "stream",
          "text": [
            "GIVE THE INPUT:- \n",
            "Gender(M/F)     M\n",
            "Nationality     India\n",
            "PlaceofBirth     Delhi\n",
            "StageID     lowerlevel\n",
            "GradeID     G-08\n",
            "SectionID     A\n",
            "Topic     IT\n",
            "Semester     S\n",
            "RaisedHands     12\n",
            "VisitedResources     10\n",
            "Discussion     6\n",
            "ParentschoolSatisfaction     Bad\n",
            "StudentAbsenceDays     under 7\n",
            "0    0\n",
            "Name: Gender, dtype: int64\n",
            "0    0\n",
            "Name: Nationality, dtype: int64\n",
            "0    0\n",
            "Name: PlaceofBirth, dtype: int64\n",
            "0    0\n",
            "Name: StageID, dtype: int64\n",
            "0    0\n",
            "Name: GradeID, dtype: int64\n",
            "0    0\n",
            "Name: SectionID, dtype: int64\n",
            "0    0\n",
            "Name: Topic, dtype: int64\n",
            "0    0\n",
            "Name: Semester, dtype: int64\n",
            "0    0\n",
            "Name: RaisedHands, dtype: int64\n",
            "0    0\n",
            "Name: VisitedResources, dtype: int64\n",
            "0    0\n",
            "Name: Discussion, dtype: int64\n",
            "0    0\n",
            "Name: ParentschoolSatisfaction, dtype: int64\n",
            "0    0\n",
            "Name: StudentAbsenceDays, dtype: int64\n"
          ],
          "name": "stdout"
        },
        {
          "output_type": "stream",
          "text": [
            "/usr/local/lib/python3.6/dist-packages/ipykernel_launcher.py:65: DataConversionWarning: A column-vector y was passed when a 1d array was expected. Please change the shape of y to (n_samples,), for example using ravel().\n"
          ],
          "name": "stderr"
        },
        {
          "output_type": "execute_result",
          "data": {
            "text/html": [
              "<div>\n",
              "<style scoped>\n",
              "    .dataframe tbody tr th:only-of-type {\n",
              "        vertical-align: middle;\n",
              "    }\n",
              "\n",
              "    .dataframe tbody tr th {\n",
              "        vertical-align: top;\n",
              "    }\n",
              "\n",
              "    .dataframe thead th {\n",
              "        text-align: right;\n",
              "    }\n",
              "</style>\n",
              "<table border=\"1\" class=\"dataframe\">\n",
              "  <thead>\n",
              "    <tr style=\"text-align: right;\">\n",
              "      <th></th>\n",
              "      <th>Gender</th>\n",
              "      <th>Nationality</th>\n",
              "      <th>PlaceofBirth</th>\n",
              "      <th>StageID</th>\n",
              "      <th>GradeID</th>\n",
              "      <th>SectionID</th>\n",
              "      <th>Topic</th>\n",
              "      <th>Semester</th>\n",
              "      <th>RaisedHands</th>\n",
              "      <th>VisitedResources</th>\n",
              "      <th>Discussion</th>\n",
              "      <th>ParentschoolSatisfaction</th>\n",
              "      <th>StudentAbsenceDays</th>\n",
              "      <th>Class</th>\n",
              "    </tr>\n",
              "  </thead>\n",
              "  <tbody>\n",
              "    <tr>\n",
              "      <th>0</th>\n",
              "      <td>M</td>\n",
              "      <td>KW</td>\n",
              "      <td>KuwaIT</td>\n",
              "      <td>lowerlevel</td>\n",
              "      <td>G-04</td>\n",
              "      <td>A</td>\n",
              "      <td>IT</td>\n",
              "      <td>F</td>\n",
              "      <td>15</td>\n",
              "      <td>16</td>\n",
              "      <td>20</td>\n",
              "      <td>Good</td>\n",
              "      <td>Under-7</td>\n",
              "      <td>M</td>\n",
              "    </tr>\n",
              "    <tr>\n",
              "      <th>1</th>\n",
              "      <td>M</td>\n",
              "      <td>KW</td>\n",
              "      <td>KuwaIT</td>\n",
              "      <td>lowerlevel</td>\n",
              "      <td>G-04</td>\n",
              "      <td>A</td>\n",
              "      <td>IT</td>\n",
              "      <td>F</td>\n",
              "      <td>20</td>\n",
              "      <td>20</td>\n",
              "      <td>25</td>\n",
              "      <td>Good</td>\n",
              "      <td>Under-7</td>\n",
              "      <td>M</td>\n",
              "    </tr>\n",
              "    <tr>\n",
              "      <th>2</th>\n",
              "      <td>M</td>\n",
              "      <td>KW</td>\n",
              "      <td>KuwaIT</td>\n",
              "      <td>lowerlevel</td>\n",
              "      <td>G-04</td>\n",
              "      <td>A</td>\n",
              "      <td>IT</td>\n",
              "      <td>F</td>\n",
              "      <td>10</td>\n",
              "      <td>7</td>\n",
              "      <td>30</td>\n",
              "      <td>Bad</td>\n",
              "      <td>Above-7</td>\n",
              "      <td>L</td>\n",
              "    </tr>\n",
              "    <tr>\n",
              "      <th>3</th>\n",
              "      <td>M</td>\n",
              "      <td>KW</td>\n",
              "      <td>KuwaIT</td>\n",
              "      <td>lowerlevel</td>\n",
              "      <td>G-04</td>\n",
              "      <td>A</td>\n",
              "      <td>IT</td>\n",
              "      <td>F</td>\n",
              "      <td>30</td>\n",
              "      <td>25</td>\n",
              "      <td>35</td>\n",
              "      <td>Bad</td>\n",
              "      <td>Above-7</td>\n",
              "      <td>L</td>\n",
              "    </tr>\n",
              "    <tr>\n",
              "      <th>4</th>\n",
              "      <td>M</td>\n",
              "      <td>KW</td>\n",
              "      <td>KuwaIT</td>\n",
              "      <td>lowerlevel</td>\n",
              "      <td>G-04</td>\n",
              "      <td>A</td>\n",
              "      <td>IT</td>\n",
              "      <td>F</td>\n",
              "      <td>40</td>\n",
              "      <td>50</td>\n",
              "      <td>50</td>\n",
              "      <td>Bad</td>\n",
              "      <td>Above-7</td>\n",
              "      <td>M</td>\n",
              "    </tr>\n",
              "    <tr>\n",
              "      <th>...</th>\n",
              "      <td>...</td>\n",
              "      <td>...</td>\n",
              "      <td>...</td>\n",
              "      <td>...</td>\n",
              "      <td>...</td>\n",
              "      <td>...</td>\n",
              "      <td>...</td>\n",
              "      <td>...</td>\n",
              "      <td>...</td>\n",
              "      <td>...</td>\n",
              "      <td>...</td>\n",
              "      <td>...</td>\n",
              "      <td>...</td>\n",
              "      <td>...</td>\n",
              "    </tr>\n",
              "    <tr>\n",
              "      <th>476</th>\n",
              "      <td>F</td>\n",
              "      <td>Jordan</td>\n",
              "      <td>Jordan</td>\n",
              "      <td>MiddleSchool</td>\n",
              "      <td>G-08</td>\n",
              "      <td>A</td>\n",
              "      <td>Geology</td>\n",
              "      <td>F</td>\n",
              "      <td>50</td>\n",
              "      <td>77</td>\n",
              "      <td>28</td>\n",
              "      <td>Bad</td>\n",
              "      <td>Under-7</td>\n",
              "      <td>M</td>\n",
              "    </tr>\n",
              "    <tr>\n",
              "      <th>477</th>\n",
              "      <td>F</td>\n",
              "      <td>Jordan</td>\n",
              "      <td>Jordan</td>\n",
              "      <td>MiddleSchool</td>\n",
              "      <td>G-08</td>\n",
              "      <td>A</td>\n",
              "      <td>Geology</td>\n",
              "      <td>S</td>\n",
              "      <td>55</td>\n",
              "      <td>74</td>\n",
              "      <td>29</td>\n",
              "      <td>Bad</td>\n",
              "      <td>Under-7</td>\n",
              "      <td>M</td>\n",
              "    </tr>\n",
              "    <tr>\n",
              "      <th>478</th>\n",
              "      <td>F</td>\n",
              "      <td>Jordan</td>\n",
              "      <td>Jordan</td>\n",
              "      <td>MiddleSchool</td>\n",
              "      <td>G-08</td>\n",
              "      <td>A</td>\n",
              "      <td>History</td>\n",
              "      <td>F</td>\n",
              "      <td>30</td>\n",
              "      <td>17</td>\n",
              "      <td>57</td>\n",
              "      <td>Bad</td>\n",
              "      <td>Above-7</td>\n",
              "      <td>L</td>\n",
              "    </tr>\n",
              "    <tr>\n",
              "      <th>479</th>\n",
              "      <td>F</td>\n",
              "      <td>Jordan</td>\n",
              "      <td>Jordan</td>\n",
              "      <td>MiddleSchool</td>\n",
              "      <td>G-08</td>\n",
              "      <td>A</td>\n",
              "      <td>History</td>\n",
              "      <td>S</td>\n",
              "      <td>35</td>\n",
              "      <td>14</td>\n",
              "      <td>62</td>\n",
              "      <td>Bad</td>\n",
              "      <td>Above-7</td>\n",
              "      <td>L</td>\n",
              "    </tr>\n",
              "    <tr>\n",
              "      <th>480</th>\n",
              "      <td>M</td>\n",
              "      <td>India</td>\n",
              "      <td>Delhi</td>\n",
              "      <td>lowerlevel</td>\n",
              "      <td>G-08</td>\n",
              "      <td>A</td>\n",
              "      <td>IT</td>\n",
              "      <td>S</td>\n",
              "      <td>12</td>\n",
              "      <td>10</td>\n",
              "      <td>6</td>\n",
              "      <td>Bad</td>\n",
              "      <td>under 7</td>\n",
              "      <td>L</td>\n",
              "    </tr>\n",
              "  </tbody>\n",
              "</table>\n",
              "<p>481 rows × 14 columns</p>\n",
              "</div>"
            ],
            "text/plain": [
              "    Gender Nationality  ... StudentAbsenceDays Class\n",
              "0        M          KW  ...            Under-7     M\n",
              "1        M          KW  ...            Under-7     M\n",
              "2        M          KW  ...            Above-7     L\n",
              "3        M          KW  ...            Above-7     L\n",
              "4        M          KW  ...            Above-7     M\n",
              "..     ...         ...  ...                ...   ...\n",
              "476      F      Jordan  ...            Under-7     M\n",
              "477      F      Jordan  ...            Under-7     M\n",
              "478      F      Jordan  ...            Above-7     L\n",
              "479      F      Jordan  ...            Above-7     L\n",
              "480      M       India  ...            under 7     L\n",
              "\n",
              "[481 rows x 14 columns]"
            ]
          },
          "metadata": {
            "tags": []
          },
          "execution_count": 98
        }
      ]
    },
    {
      "cell_type": "code",
      "metadata": {
        "id": "V_sK8seS5Ulv"
      },
      "source": [
        ""
      ],
      "execution_count": null,
      "outputs": []
    }
  ]
}